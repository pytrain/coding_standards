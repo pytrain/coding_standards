{
 "cells": [
  {
   "cell_type": "code",
   "execution_count": 0,
   "metadata": {
    "colab": {},
    "colab_type": "code",
    "id": "U-VsjfYEr2XL"
   },
   "outputs": [],
   "source": [
    "from __future__ import print_function"
   ]
  },
  {
   "cell_type": "code",
   "execution_count": 0,
   "metadata": {
    "colab": {},
    "colab_type": "code",
    "id": "Ys-Hfxapr2XY"
   },
   "outputs": [],
   "source": [
    "from IPython.core.interactiveshell import InteractiveShell\n",
    "InteractiveShell.ast_node_interactivity = \"all\""
   ]
  },
  {
   "cell_type": "markdown",
   "metadata": {
    "colab_type": "text",
    "id": "NVB_E54xr2Xf"
   },
   "source": [
    "![NASA](http://www.nasa.gov/sites/all/themes/custom/nasatwo/images/nasa-logo.svg)\n",
    "\n",
    "<center>\n",
    "<h1><font size=\"+3\">GSFC Python Bootcamp</font></h1>\n",
    "</center>\n",
    "\n",
    "---\n",
    "\n",
    "<CENTER>\n",
    "<H1 style=\"color:red\">\n",
    "Python Coding Standards\n",
    "</H1>\n",
    "</CENTER>"
   ]
  },
  {
   "cell_type": "markdown",
   "metadata": {
    "colab_type": "text",
    "id": "IZDwBonLr2Xh"
   },
   "source": [
    "# <font color=\"red\"> Goals </font>\n",
    "\n",
    "- Follow the Python Enhancement Proposal 8 (PEP8) document  to provide guidelines and best practices on how to write Python code. \n",
    "- PEP8 addresses topics such as name conventions, code layout, indentation, comments, etc..\n",
    "- Make the code more readable, maintainable and sharable.\n",
    "\n",
    "#### “Programs must be written for people to read, and only incidentally for machines to execute.”\n",
    "—Abelson & Sussman, _Structure and Interpretation of Computer Programs_"
   ]
  },
  {
   "cell_type": "markdown",
   "metadata": {
    "colab_type": "text",
    "id": "5RRAeL5Pr2Xi"
   },
   "source": [
    "# <font color=\"red\">Code Lay-Out</font>"
   ]
  },
  {
   "cell_type": "markdown",
   "metadata": {
    "colab_type": "text",
    "id": "zWAamwkSr2Xl"
   },
   "source": [
    "## Indentation"
   ]
  },
  {
   "cell_type": "markdown",
   "metadata": {
    "colab_type": "text",
    "id": "k3L_aShlr2Xm"
   },
   "source": [
    "- Use 4 spaces per indentation level."
   ]
  },
  {
   "cell_type": "raw",
   "metadata": {
    "colab": {},
    "colab_type": "code",
    "id": "dLg4nO4gr2Xo"
   },
   "source": [
    "# YES\n",
    "def long_function_name(\n",
    "        var_one, var_two, var_three,\n",
    "        var_four):\n",
    "    print(var_one)\n",
    "\n",
    "# NO\n",
    "def long_function_name(\n",
    "     var_one, var_two, var_three,\n",
    "     var_four):\n",
    "     print(var_one)"
   ]
  },
  {
   "cell_type": "markdown",
   "metadata": {
    "colab_type": "text",
    "id": "WSJA7qtZr2Xu"
   },
   "source": [
    "- The closing brace/bracket/parenthesis on multiline constructs may either line up under the first non-whitespace character of the previous line, or under the first charater of the construct. "
   ]
  },
  {
   "cell_type": "raw",
   "metadata": {
    "colab": {},
    "colab_type": "code",
    "id": "5lKNgUu-r2Xw"
   },
   "source": [
    "my_list = [\n",
    "    1, 2, 3,\n",
    "    4, 5, 6\n",
    "    ]\n",
    "result = call_some_function_that_takes_arguments(\n",
    "    'a', 'b', 'c',\n",
    "    'd', 'e', 'f'\n",
    ")"
   ]
  },
  {
   "cell_type": "markdown",
   "metadata": {
    "colab_type": "text",
    "id": "CLNZphoBr2X1"
   },
   "source": [
    "## Tabs or Spaces"
   ]
  },
  {
   "cell_type": "markdown",
   "metadata": {
    "colab_type": "text",
    "id": "N30w9nIsr2X3"
   },
   "source": [
    "- Spaces are the preferred indentation method.\n",
    "- Tabs should be used solely to remain consistent with code that is already indented with tabs."
   ]
  },
  {
   "cell_type": "markdown",
   "metadata": {
    "colab_type": "text",
    "id": "m2caEya3r2X5"
   },
   "source": [
    "## Maximum Line Length"
   ]
  },
  {
   "cell_type": "markdown",
   "metadata": {
    "colab_type": "text",
    "id": "c7iGrWU7r2X7"
   },
   "source": [
    "- Limit all lines to a maximum of 79 characters.\n",
    "- For docstrings or comments, the line length should be limited to 72 characters.\n",
    "- To split up a line, continuation characters (\\) may be used, though implied continuation inside parentheses or brackets is preferred."
   ]
  },
  {
   "cell_type": "raw",
   "metadata": {},
   "source": [
    "print (’This long statement is going to be continued on the ’\n",
    "       ’following line ’)"
   ]
  },
  {
   "cell_type": "markdown",
   "metadata": {
    "colab_type": "text",
    "id": "Obj90-nnr2X7"
   },
   "source": [
    "## Blank Lines"
   ]
  },
  {
   "cell_type": "markdown",
   "metadata": {
    "colab_type": "text",
    "id": "RrCiIc27r2X-"
   },
   "source": [
    "- Surround top-level function and class definitions with two blank lines.\n",
    "- Method definitions inside a class are surrounded by a single blank line.\n",
    "- Use blank lines in functions, sparingly, to indicate logical sections.\n",
    "\n",
    "#### Sparse is better than dense.\n",
    "—The Zen of Python"
   ]
  },
  {
   "cell_type": "markdown",
   "metadata": {
    "colab_type": "text",
    "id": "o0I_HKyNr2X_"
   },
   "source": [
    "## Imports"
   ]
  },
  {
   "cell_type": "markdown",
   "metadata": {
    "colab_type": "text",
    "id": "E_fIkZ1Ar2YA"
   },
   "source": [
    "- One import statement per line\n",
    "- Imports are always put at the top of the file, just after any module comments and docstrings, and before module globals and constants\n",
    "- Imports should be grouped in the following order:\n",
    "     1. Standard library imports.\n",
    "     2. Related third party imports.\n",
    "     3. Local application/library specific imports.\n"
   ]
  },
  {
   "cell_type": "markdown",
   "metadata": {
    "colab_type": "text",
    "id": "GaYpgGH_r2YB"
   },
   "source": [
    "## Module Level Dunder Names"
   ]
  },
  {
   "cell_type": "markdown",
   "metadata": {
    "colab_type": "text",
    "id": "DXZBKNHpr2YC"
   },
   "source": [
    "Module level \"dunders\" (i.e. names with two leading and two trailing underscores) should be placed after the module docstring \n",
    "but before any import statements except from \\_\\_future\\_\\_ imports. "
   ]
  },
  {
   "cell_type": "code",
   "execution_count": 0,
   "metadata": {
    "colab": {},
    "colab_type": "code",
    "id": "hHqTYa_Vr2YI"
   },
   "outputs": [],
   "source": [
    "\"\"\"\n",
    "   This is the example module.\n",
    "   This module does stuff.\n",
    "\"\"\"\n",
    "\n",
    "from __future__ import barry_as_FLUFL\n",
    "\n",
    "__all__ = ['a', 'b', 'c']\n",
    "__version__ = '0.1'\n",
    "__author__ = 'Cardinal Biggles'\n",
    "\n",
    "import os\n",
    "import sys  "
   ]
  },
  {
   "cell_type": "markdown",
   "metadata": {
    "colab_type": "text",
    "id": "mq9cj8l_r2YM"
   },
   "source": [
    "# <font color=\"red\"> Comments </font>"
   ]
  },
  {
   "cell_type": "markdown",
   "metadata": {
    "colab_type": "text",
    "id": "mkGzexZCr2YO"
   },
   "source": [
    "## Comments"
   ]
  },
  {
   "cell_type": "markdown",
   "metadata": {
    "colab_type": "text",
    "id": "lw6Bgk3Gr2YQ"
   },
   "source": [
    "- Use complete sentences.\n",
    "- Use two spaces after a sentence-ending period in multi- sentence comments, except after the final sentence.\n",
    "- Each line of a block comment starts with a # and a single space"
   ]
  },
  {
   "cell_type": "markdown",
   "metadata": {
    "colab_type": "text",
    "id": "di_IN208r2YS"
   },
   "source": [
    "## Inline Comments"
   ]
  },
  {
   "cell_type": "markdown",
   "metadata": {
    "colab_type": "text",
    "id": "1RrEFSR6r2YT"
   },
   "source": [
    "- An inline comment is a comment on the same line as a statement.\n",
    "- Inline comments should be separated by at least two spaces from the statement.\n",
    "- They should start with a # and a single space"
   ]
  },
  {
   "cell_type": "markdown",
   "metadata": {
    "colab_type": "text",
    "id": "-Lq-AOuWr2YU"
   },
   "source": [
    "## Documentation String"
   ]
  },
  {
   "cell_type": "markdown",
   "metadata": {
    "colab_type": "text",
    "id": "stm2mReNr2YV"
   },
   "source": [
    "- Write docstrings for all public modules, functions, classes, and methods.\n",
    "- Docstrings should have  comments that describe what the method does.\n",
    "- The triple quote that ends a multiline docstring should be on a line by itself."
   ]
  },
  {
   "cell_type": "raw",
   "metadata": {
    "colab": {},
    "colab_type": "code",
    "id": "rdf5Gmnvr2YW"
   },
   "source": [
    "\"\"\"This is an example of docstring.\n",
    "\n",
    "The ending triple quote should be on a line by itself.\n",
    "\"\"\""
   ]
  },
  {
   "cell_type": "markdown",
   "metadata": {
    "colab_type": "text",
    "id": "K70dIaDWr2Ya"
   },
   "source": [
    "# <font color=\"red\">Naming Conventions </font>"
   ]
  },
  {
   "cell_type": "markdown",
   "metadata": {
    "colab_type": "text",
    "id": "W9CYsbiFr2Yc"
   },
   "source": [
    "## Descriptive: Naming Styles"
   ]
  },
  {
   "cell_type": "markdown",
   "metadata": {
    "colab_type": "text",
    "id": "KqNUPIlqr2Yd"
   },
   "source": [
    "- lowercase\n",
    "- lower\\_case\\_with\\_underscores.\n",
    "- UPPERCASE\n",
    "- UPPER\\_CASE\\_WITH\\_UNDERSCORES\n",
    "- CapitalizedWords \n",
    "- mixedCase\n",
    "- Capitalized\\_Words\\_With\\_Underscores"
   ]
  },
  {
   "cell_type": "markdown",
   "metadata": {
    "colab_type": "text",
    "id": "JvHhOVvXr2Ye"
   },
   "source": [
    "## Packages and Modules Names"
   ]
  },
  {
   "cell_type": "markdown",
   "metadata": {
    "colab_type": "text",
    "id": "z6s8Y6krr2Yf"
   },
   "source": [
    "- Modules should have short, all-lowercase names.\n",
    "- Underscores can be used in the module name if it improves readability. \n",
    "- Python packages should also have short, all-lowercase names."
   ]
  },
  {
   "cell_type": "markdown",
   "metadata": {
    "colab_type": "text",
    "id": "41tj2_qZr2Yh"
   },
   "source": [
    "## Class Names"
   ]
  },
  {
   "cell_type": "markdown",
   "metadata": {
    "colab_type": "text",
    "id": "Ak-FXHG7r2Yh"
   },
   "source": [
    "- Class names should normally use the CapWords convention."
   ]
  },
  {
   "cell_type": "markdown",
   "metadata": {
    "colab_type": "text",
    "id": "UmMVvO5gr2Yj"
   },
   "source": [
    "## Function and Variable Names"
   ]
  },
  {
   "cell_type": "markdown",
   "metadata": {
    "colab_type": "text",
    "id": "pxNQx6gfr2Yk"
   },
   "source": [
    "- Always use  **self** for the first argument to instance methods.\n",
    "- Always use **cls** for the first argument to class methods.\n",
    "- If a function argument's name clashes with a reserved keyword, it is generally better to append a single trailing underscore rather than use an abbreviation or spelling corruption.\n",
    "\n",
    "<B>class_</B> is better than **cls**. "
   ]
  },
  {
   "cell_type": "code",
   "execution_count": null,
   "metadata": {},
   "outputs": [],
   "source": [
    "class MyClass():\n",
    "     class_attribute = \"String attribute for class\"\n",
    "     def __init__(self):\n",
    "         self.instance_attribute = \"String attribute for instance\"\n",
    "     @classmethod\n",
    "     def get_class_attribute(cls):\n",
    "         return cls.class_attribute"
   ]
  },
  {
   "cell_type": "markdown",
   "metadata": {
    "colab_type": "text",
    "id": "8fNqKAJZr2Yl"
   },
   "source": [
    "## Constants"
   ]
  },
  {
   "cell_type": "markdown",
   "metadata": {
    "colab_type": "text",
    "id": "v14vU3xsr2Ym"
   },
   "source": [
    "- Constants are usually defined on a module level and written in all capital letters with underscores separating words.\n",
    "- Constants are highly recommended to avoid \"magic numbers\" in your code"
   ]
  },
  {
   "cell_type": "code",
   "execution_count": 0,
   "metadata": {
    "colab": {},
    "colab_type": "code",
    "id": "hOse8OqMr2Yn"
   },
   "outputs": [],
   "source": [
    "MINUTES_PER_HOUR = 60\n",
    "HOURS_PER_DAY    = 24\n",
    "DAYS_PER_WEEK    = 7\n",
    "MONTH_PER_YEAR   = 12"
   ]
  },
  {
   "cell_type": "markdown",
   "metadata": {
    "colab_type": "text",
    "id": "-yOVM70Vr2Yr"
   },
   "source": [
    "# <font color=\"red\">Programming Recommendations </font>"
   ]
  },
  {
   "cell_type": "markdown",
   "metadata": {
    "colab_type": "text",
    "id": "sUh6-gBGr2Ys"
   },
   "source": [
    "## Return Statements"
   ]
  },
  {
   "cell_type": "markdown",
   "metadata": {
    "colab_type": "text",
    "id": "HR_Wo82zr2Yt"
   },
   "source": [
    "- Either all return statements in a function should return an expression, or none of them should.\n",
    "- If any return statement returns an expression, any return statements where no value is returned \n",
    "  should explicitly state this as **return None**, and an explicit return statement should be present at the end of the function."
   ]
  },
  {
   "cell_type": "code",
   "execution_count": 0,
   "metadata": {
    "colab": {},
    "colab_type": "code",
    "id": "PWWN1BGKr2Yu"
   },
   "outputs": [],
   "source": [
    "# YES\n",
    "def bar(x):\n",
    "    if x < 0:\n",
    "        return None\n",
    "    return math.sqrt(x)\n",
    "\n",
    "# NO\n",
    "def bar(x):\n",
    "    if x < 0:\n",
    "        return\n",
    "    return math.sqrt(x)"
   ]
  },
  {
   "cell_type": "markdown",
   "metadata": {
    "colab_type": "text",
    "id": "Dtup0UR0r2Yy"
   },
   "source": [
    "## Sequences"
   ]
  },
  {
   "cell_type": "markdown",
   "metadata": {
    "colab_type": "text",
    "id": "zL_u00fKr2Yz"
   },
   "source": [
    "- For strings, lists, tuples, use the fact that empty sequences are false."
   ]
  },
  {
   "cell_type": "code",
   "execution_count": 0,
   "metadata": {
    "colab": {},
    "colab_type": "code",
    "id": "MoZhD1TOr2Y0"
   },
   "outputs": [],
   "source": [
    "#YES\n",
    "if not seq:\n",
    "if seq:\n",
    "\n",
    "# NO\n",
    "if len(seq):\n",
    "if not len(seq):"
   ]
  },
  {
   "cell_type": "markdown",
   "metadata": {
    "colab_type": "text",
    "id": "Zbfj3clxr2Y3"
   },
   "source": [
    "## Boolean Comparison"
   ]
  },
  {
   "cell_type": "markdown",
   "metadata": {
    "colab_type": "text",
    "id": "dC36MoA3r2Y3"
   },
   "source": [
    "- Don't compare boolean values to True or False using **==**."
   ]
  },
  {
   "cell_type": "code",
   "execution_count": 0,
   "metadata": {
    "colab": {},
    "colab_type": "code",
    "id": "maenlgt4r2Y5"
   },
   "outputs": [],
   "source": [
    "# Yes:   \n",
    "if greeting:\n",
    "    \n",
    "# No:    \n",
    "if greeting == True:\n",
    "\n",
    "# Worse: \n",
    "if greeting is True:"
   ]
  },
  {
   "cell_type": "markdown",
   "metadata": {
    "colab_type": "text",
    "id": "jwSBpnEZr2Y9"
   },
   "source": [
    "# <font color=\"red\"> Exercise </font>"
   ]
  },
  {
   "cell_type": "markdown",
   "metadata": {
    "colab_type": "text",
    "id": "G758_Yp2r2Y-"
   },
   "source": [
    "Apply the coding standards to the code (def_converter.py, temperature_converter.py) in the directory pyCode. You may want to use a Python GUI editor such as pyCharm."
   ]
  },
  {
   "cell_type": "code",
   "execution_count": null,
   "metadata": {
    "colab": {},
    "colab_type": "code",
    "id": "nIud5xbfr2Y_"
   },
   "outputs": [],
   "source": [
    "# %load pyCode/def_converter.py\n",
    "#!/usr/bin/env python\n",
    "\"\"\"\n",
    "   Functions for temperature conversion\n",
    "\"\"\"\n",
    "\n",
    "def from_C_to_F(tC):\n",
    "    return (tC * 1.8) + 32\n",
    "\n",
    "def from_F_to_C(tF):\n",
    "    return (tF - 32) * 5.0/9.0\n",
    "\n",
    "def from_C_to_K(tC):\n",
    "    return tC + 273.0\n",
    "\n",
    "def from_K_to_F(tK):\n",
    "    tC = tK - 273.0\n",
    "    return from_C_to_F(tC)\n",
    "\n",
    "def from_F_to_K(tF):\n",
    "    return from_F_to_C(tF) + 273.0\n"
   ]
  },
  {
   "cell_type": "code",
   "execution_count": null,
   "metadata": {
    "colab": {},
    "colab_type": "code",
    "id": "GUgDzIMir2ZC"
   },
   "outputs": [],
   "source": [
    "# %load pyCode/temperature_converter.py\n",
    "#!/usr/bin/env python\n",
    "\n",
    "#import def_converter\n",
    "\n",
    "# Python Program to convert temperature\n",
    "\n",
    "# Calculate Fahrenheit\n",
    "cel = 37.5\n",
    "fahr = def_converter.from_C_to_F(cel)\n",
    "print('%0.1f degree Celsius is equal to %0.1f degree Fahrenheit' %(cel,fahr))\n",
    "\n",
    "# Calculate Celcius\n",
    "fahr = 67.8\n",
    "cel = def_converter.from_F_to_C(fahr)\n",
    "print('%0.1f degree Fahrenheit is equal to %0.1f degree Celcius' %(fahr,cel))\n",
    "\n",
    "kel = def_converter.from_F_to_K(fahr)\n",
    "print('%0.1f degree Fahrenheit is equal to %0.1f degree Kelvin' %(fahr,kel))\n"
   ]
  },
  {
   "cell_type": "code",
   "execution_count": 0,
   "metadata": {
    "colab": {},
    "colab_type": "code",
    "id": "Nn_Uabzcr2ZF"
   },
   "outputs": [],
   "source": []
  }
 ],
 "metadata": {
  "colab": {
   "name": "Copy of Python_coding_standards.ipynb",
   "provenance": [
    {
     "file_id": "https://github.com/pytrain/coding_standards/blob/master/Python_coding_standards.ipynb",
     "timestamp": 1560545941121
    }
   ],
   "version": "0.3.2"
  },
  "kernelspec": {
   "display_name": "Python 3",
   "language": "python",
   "name": "python3"
  },
  "language_info": {
   "codemirror_mode": {
    "name": "ipython",
    "version": 3
   },
   "file_extension": ".py",
   "mimetype": "text/x-python",
   "name": "python",
   "nbconvert_exporter": "python",
   "pygments_lexer": "ipython3",
   "version": "3.7.3"
  }
 },
 "nbformat": 4,
 "nbformat_minor": 1
}
